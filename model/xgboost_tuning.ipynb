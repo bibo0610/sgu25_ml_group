{
 "cells": [
  {
   "cell_type": "markdown",
   "id": "89f647e7",
   "metadata": {},
   "source": [
    "## Tinh chỉnh (hyperparameter tuning)"
   ]
  },
  {
   "cell_type": "markdown",
   "id": "5d3fbfbc",
   "metadata": {},
   "source": [
    "### Import thư viện"
   ]
  },
  {
   "cell_type": "code",
   "execution_count": 1,
   "id": "a8afbbd0",
   "metadata": {},
   "outputs": [],
   "source": [
    "import pandas as pd\n",
    "import numpy as np\n",
    "from xgboost import XGBClassifier\n",
    "from sklearn.model_selection import train_test_split, RandomizedSearchCV, GridSearchCV\n",
    "from sklearn.metrics import accuracy_score, confusion_matrix, classification_report\n",
    "from sklearn.preprocessing import LabelEncoder\n",
    "from scipy.stats import randint, uniform\n",
    "import matplotlib.pyplot as plt\n",
    "import joblib\n",
    "import warnings\n",
    "warnings.filterwarnings(\"ignore\")"
   ]
  },
  {
   "cell_type": "markdown",
   "id": "26830235",
   "metadata": {},
   "source": [
    "### Load và xử lý dữ liệu "
   ]
  },
  {
   "cell_type": "code",
   "execution_count": 2,
   "id": "708a5c2a",
   "metadata": {},
   "outputs": [
    {
     "name": "stdout",
     "output_type": "stream",
     "text": [
      "Dữ liệu đã encode xong. Dtypes:\n",
      "int64      17\n",
      "float64     2\n",
      "Name: count, dtype: int64\n",
      "Train: (712, 19), Validation: (179, 19)\n"
     ]
    }
   ],
   "source": [
    "train = pd.read_excel(\"../exps/data/train_feat.xlsx\")\n",
    "\n",
    "# Chia features & target\n",
    "X = train.drop(\"Survived\", axis=1)\n",
    "y = train[\"Survived\"]\n",
    "\n",
    "# Chuyển các cột object -> số bằng LabelEncoder\n",
    "for col in X.select_dtypes(include=\"object\").columns:\n",
    "    le = LabelEncoder()\n",
    "    X[col] = le.fit_transform(X[col].astype(str))\n",
    "\n",
    "print(\"Dữ liệu đã encode xong. Dtypes:\")\n",
    "print(X.dtypes.value_counts())\n",
    "\n",
    "# Tách train / validation\n",
    "X_train, X_val, y_train, y_val = train_test_split(\n",
    "    X, y, test_size=0.2, random_state=42, stratify=y\n",
    ")\n",
    "\n",
    "print(f\"Train: {X_train.shape}, Validation: {X_val.shape}\")"
   ]
  },
  {
   "cell_type": "markdown",
   "id": "eaf941ff",
   "metadata": {},
   "source": [
    "### Thiết lập RandomizedSearchCV (Dò thô)"
   ]
  },
  {
   "cell_type": "code",
   "execution_count": 3,
   "id": "5e433cae",
   "metadata": {},
   "outputs": [
    {
     "name": "stdout",
     "output_type": "stream",
     "text": [
      "Fitting 5 folds for each of 100 candidates, totalling 500 fits\n",
      "Best parameters (Random Search):\n",
      "{'colsample_bytree': np.float64(0.6546485325768115), 'gamma': np.float64(0.28356439876404743), 'learning_rate': np.float64(0.12056399538158155), 'max_depth': 4, 'min_child_weight': 7, 'n_estimators': 737, 'reg_alpha': np.float64(1.6202267893583615), 'reg_lambda': np.float64(5.335361592900519), 'subsample': np.float64(0.9652962210225885)}\n",
      "Best CV Accuracy: 0.8301\n"
     ]
    }
   ],
   "source": [
    "param_dist = {\n",
    "    'max_depth': randint(3, 10),\n",
    "    'learning_rate': uniform(0.01, 0.2),\n",
    "    'n_estimators': randint(200, 800),\n",
    "    'subsample': uniform(0.6, 0.4),\n",
    "    'colsample_bytree': uniform(0.6, 0.4),\n",
    "    'gamma': uniform(0, 0.4),\n",
    "    'min_child_weight': randint(1, 10),\n",
    "    'reg_alpha': uniform(0, 2),\n",
    "    'reg_lambda': uniform(1, 5)\n",
    "}\n",
    "\n",
    "xgb_model = XGBClassifier(\n",
    "    eval_metric=\"logloss\", \n",
    "    use_label_encoder=False, \n",
    "    random_state=42\n",
    ")\n",
    "\n",
    "random_search = RandomizedSearchCV(\n",
    "    estimator=xgb_model,\n",
    "    param_distributions=param_dist,\n",
    "    n_iter=100,\n",
    "    scoring=\"accuracy\",\n",
    "    cv=5,\n",
    "    verbose=1,\n",
    "    n_jobs=-1,\n",
    "    random_state=42\n",
    ")\n",
    "\n",
    "random_search.fit(X_train, y_train)\n",
    "\n",
    "print(\"Best parameters (Random Search):\")\n",
    "print(random_search.best_params_)\n",
    "print(f\"Best CV Accuracy: {random_search.best_score_:.4f}\")\n",
    "\n",
    "best_random_params = random_search.best_params_"
   ]
  },
  {
   "cell_type": "markdown",
   "id": "205dc7a4",
   "metadata": {},
   "source": [
    "### Fine-tuning quanh tham số tốt nhất"
   ]
  },
  {
   "cell_type": "code",
   "execution_count": 4,
   "id": "32749d54",
   "metadata": {},
   "outputs": [
    {
     "name": "stdout",
     "output_type": "stream",
     "text": [
      "Fitting 5 folds for each of 81 candidates, totalling 405 fits\n",
      "Best parameters (Fine-tuning):\n",
      "{'colsample_bytree': np.float64(0.6546485325768115), 'learning_rate': np.float64(0.12056399538158155), 'max_depth': 4, 'subsample': np.float64(0.9652962210225885)}\n",
      "Best CV Accuracy: 0.8301\n"
     ]
    }
   ],
   "source": [
    "param_grid_fine = {\n",
    "    \"max_depth\": [\n",
    "        max(1, best_random_params[\"max_depth\"] - 1),\n",
    "        best_random_params[\"max_depth\"],\n",
    "        best_random_params[\"max_depth\"] + 1\n",
    "    ],\n",
    "\n",
    "    \"learning_rate\": [\n",
    "        best_random_params[\"learning_rate\"] * 0.8,\n",
    "        best_random_params[\"learning_rate\"],\n",
    "        best_random_params[\"learning_rate\"] * 1.2\n",
    "    ],\n",
    "    \"subsample\": [\n",
    "        max(0.6, best_random_params[\"subsample\"] - 0.1),\n",
    "        best_random_params[\"subsample\"],\n",
    "        min(1.0, best_random_params[\"subsample\"] + 0.1)\n",
    "    ],\n",
    "    \"colsample_bytree\": [\n",
    "        max(0.6, best_random_params[\"colsample_bytree\"] - 0.1),\n",
    "        best_random_params[\"colsample_bytree\"],\n",
    "        min(1.0, best_random_params[\"colsample_bytree\"] + 0.1)\n",
    "    ]\n",
    "}\n",
    "\n",
    "fine_model = XGBClassifier(\n",
    "    eval_metric=\"logloss\",\n",
    "    use_label_encoder=False,\n",
    "    random_state=42,\n",
    "    n_estimators=best_random_params[\"n_estimators\"],\n",
    "    gamma=best_random_params[\"gamma\"],\n",
    "    reg_alpha=best_random_params[\"reg_alpha\"],\n",
    "    reg_lambda=best_random_params[\"reg_lambda\"],\n",
    "    min_child_weight=best_random_params[\"min_child_weight\"]\n",
    ")\n",
    "\n",
    "grid_search = GridSearchCV(\n",
    "    estimator=fine_model,\n",
    "    param_grid=param_grid_fine,\n",
    "    scoring=\"accuracy\",\n",
    "    cv=5,\n",
    "    n_jobs=-1,\n",
    "    verbose=1\n",
    ")\n",
    "\n",
    "grid_search.fit(X_train, y_train)\n",
    "\n",
    "print(\"Best parameters (Fine-tuning):\")\n",
    "print(grid_search.best_params_)\n",
    "print(f\"Best CV Accuracy: {grid_search.best_score_:.4f}\")\n",
    "\n",
    "best_params = grid_search.best_params_"
   ]
  },
  {
   "cell_type": "markdown",
   "id": "6e23545c",
   "metadata": {},
   "source": [
    "### Thử nghiệm tham số"
   ]
  },
  {
   "cell_type": "code",
   "execution_count": 5,
   "id": "12f158d1",
   "metadata": {},
   "outputs": [
    {
     "name": "stdout",
     "output_type": "stream",
     "text": [
      "{'learning_rate': 0.05, 'max_depth': 5, 'n_estimators': 600, 'subsample': 0.8, 'colsample_bytree': 0.8} → 0.8101\n",
      "{'learning_rate': 0.05, 'max_depth': 5, 'n_estimators': 600, 'subsample': 0.8, 'colsample_bytree': 1.0} → 0.7989\n",
      "{'learning_rate': 0.05, 'max_depth': 5, 'n_estimators': 600, 'subsample': 1.0, 'colsample_bytree': 0.8} → 0.8156\n",
      "{'learning_rate': 0.05, 'max_depth': 5, 'n_estimators': 600, 'subsample': 1.0, 'colsample_bytree': 1.0} → 0.8101\n",
      "{'learning_rate': 0.05, 'max_depth': 5, 'n_estimators': 800, 'subsample': 0.8, 'colsample_bytree': 0.8} → 0.8101\n",
      "{'learning_rate': 0.05, 'max_depth': 5, 'n_estimators': 800, 'subsample': 0.8, 'colsample_bytree': 1.0} → 0.7933\n",
      "{'learning_rate': 0.05, 'max_depth': 5, 'n_estimators': 800, 'subsample': 1.0, 'colsample_bytree': 0.8} → 0.8156\n",
      "{'learning_rate': 0.05, 'max_depth': 5, 'n_estimators': 800, 'subsample': 1.0, 'colsample_bytree': 1.0} → 0.8101\n",
      "{'learning_rate': 0.05, 'max_depth': 5, 'n_estimators': 1000, 'subsample': 0.8, 'colsample_bytree': 0.8} → 0.8045\n",
      "{'learning_rate': 0.05, 'max_depth': 5, 'n_estimators': 1000, 'subsample': 0.8, 'colsample_bytree': 1.0} → 0.7933\n",
      "{'learning_rate': 0.05, 'max_depth': 5, 'n_estimators': 1000, 'subsample': 1.0, 'colsample_bytree': 0.8} → 0.8156\n",
      "{'learning_rate': 0.05, 'max_depth': 5, 'n_estimators': 1000, 'subsample': 1.0, 'colsample_bytree': 1.0} → 0.8101\n",
      "{'learning_rate': 0.05, 'max_depth': 6, 'n_estimators': 600, 'subsample': 0.8, 'colsample_bytree': 0.8} → 0.7989\n",
      "{'learning_rate': 0.05, 'max_depth': 6, 'n_estimators': 600, 'subsample': 0.8, 'colsample_bytree': 1.0} → 0.7933\n",
      "{'learning_rate': 0.05, 'max_depth': 6, 'n_estimators': 600, 'subsample': 1.0, 'colsample_bytree': 0.8} → 0.8045\n",
      "{'learning_rate': 0.05, 'max_depth': 6, 'n_estimators': 600, 'subsample': 1.0, 'colsample_bytree': 1.0} → 0.7989\n",
      "{'learning_rate': 0.05, 'max_depth': 6, 'n_estimators': 800, 'subsample': 0.8, 'colsample_bytree': 0.8} → 0.7989\n",
      "{'learning_rate': 0.05, 'max_depth': 6, 'n_estimators': 800, 'subsample': 0.8, 'colsample_bytree': 1.0} → 0.7877\n",
      "{'learning_rate': 0.05, 'max_depth': 6, 'n_estimators': 800, 'subsample': 1.0, 'colsample_bytree': 0.8} → 0.8045\n",
      "{'learning_rate': 0.05, 'max_depth': 6, 'n_estimators': 800, 'subsample': 1.0, 'colsample_bytree': 1.0} → 0.7989\n",
      "{'learning_rate': 0.05, 'max_depth': 6, 'n_estimators': 1000, 'subsample': 0.8, 'colsample_bytree': 0.8} → 0.8045\n",
      "{'learning_rate': 0.05, 'max_depth': 6, 'n_estimators': 1000, 'subsample': 0.8, 'colsample_bytree': 1.0} → 0.7877\n",
      "{'learning_rate': 0.05, 'max_depth': 6, 'n_estimators': 1000, 'subsample': 1.0, 'colsample_bytree': 0.8} → 0.8045\n",
      "{'learning_rate': 0.05, 'max_depth': 6, 'n_estimators': 1000, 'subsample': 1.0, 'colsample_bytree': 1.0} → 0.7989\n",
      "{'learning_rate': 0.05, 'max_depth': 7, 'n_estimators': 600, 'subsample': 0.8, 'colsample_bytree': 0.8} → 0.8101\n",
      "{'learning_rate': 0.05, 'max_depth': 7, 'n_estimators': 600, 'subsample': 0.8, 'colsample_bytree': 1.0} → 0.8045\n",
      "{'learning_rate': 0.05, 'max_depth': 7, 'n_estimators': 600, 'subsample': 1.0, 'colsample_bytree': 0.8} → 0.8156\n",
      "{'learning_rate': 0.05, 'max_depth': 7, 'n_estimators': 600, 'subsample': 1.0, 'colsample_bytree': 1.0} → 0.7989\n",
      "{'learning_rate': 0.05, 'max_depth': 7, 'n_estimators': 800, 'subsample': 0.8, 'colsample_bytree': 0.8} → 0.8101\n",
      "{'learning_rate': 0.05, 'max_depth': 7, 'n_estimators': 800, 'subsample': 0.8, 'colsample_bytree': 1.0} → 0.8045\n",
      "{'learning_rate': 0.05, 'max_depth': 7, 'n_estimators': 800, 'subsample': 1.0, 'colsample_bytree': 0.8} → 0.8156\n",
      "{'learning_rate': 0.05, 'max_depth': 7, 'n_estimators': 800, 'subsample': 1.0, 'colsample_bytree': 1.0} → 0.7989\n",
      "{'learning_rate': 0.05, 'max_depth': 7, 'n_estimators': 1000, 'subsample': 0.8, 'colsample_bytree': 0.8} → 0.8045\n",
      "{'learning_rate': 0.05, 'max_depth': 7, 'n_estimators': 1000, 'subsample': 0.8, 'colsample_bytree': 1.0} → 0.8045\n",
      "{'learning_rate': 0.05, 'max_depth': 7, 'n_estimators': 1000, 'subsample': 1.0, 'colsample_bytree': 0.8} → 0.8156\n",
      "{'learning_rate': 0.05, 'max_depth': 7, 'n_estimators': 1000, 'subsample': 1.0, 'colsample_bytree': 1.0} → 0.7989\n",
      "{'learning_rate': 0.03, 'max_depth': 5, 'n_estimators': 600, 'subsample': 0.8, 'colsample_bytree': 0.8} → 0.8268\n",
      "{'learning_rate': 0.03, 'max_depth': 5, 'n_estimators': 600, 'subsample': 0.8, 'colsample_bytree': 1.0} → 0.8045\n",
      "{'learning_rate': 0.03, 'max_depth': 5, 'n_estimators': 600, 'subsample': 1.0, 'colsample_bytree': 0.8} → 0.8101\n",
      "{'learning_rate': 0.03, 'max_depth': 5, 'n_estimators': 600, 'subsample': 1.0, 'colsample_bytree': 1.0} → 0.7989\n",
      "{'learning_rate': 0.03, 'max_depth': 5, 'n_estimators': 800, 'subsample': 0.8, 'colsample_bytree': 0.8} → 0.8380\n",
      "{'learning_rate': 0.03, 'max_depth': 5, 'n_estimators': 800, 'subsample': 0.8, 'colsample_bytree': 1.0} → 0.8101\n",
      "{'learning_rate': 0.03, 'max_depth': 5, 'n_estimators': 800, 'subsample': 1.0, 'colsample_bytree': 0.8} → 0.8101\n",
      "{'learning_rate': 0.03, 'max_depth': 5, 'n_estimators': 800, 'subsample': 1.0, 'colsample_bytree': 1.0} → 0.7989\n",
      "{'learning_rate': 0.03, 'max_depth': 5, 'n_estimators': 1000, 'subsample': 0.8, 'colsample_bytree': 0.8} → 0.8212\n",
      "{'learning_rate': 0.03, 'max_depth': 5, 'n_estimators': 1000, 'subsample': 0.8, 'colsample_bytree': 1.0} → 0.8045\n",
      "{'learning_rate': 0.03, 'max_depth': 5, 'n_estimators': 1000, 'subsample': 1.0, 'colsample_bytree': 0.8} → 0.8101\n",
      "{'learning_rate': 0.03, 'max_depth': 5, 'n_estimators': 1000, 'subsample': 1.0, 'colsample_bytree': 1.0} → 0.7989\n",
      "{'learning_rate': 0.03, 'max_depth': 6, 'n_estimators': 600, 'subsample': 0.8, 'colsample_bytree': 0.8} → 0.8212\n",
      "{'learning_rate': 0.03, 'max_depth': 6, 'n_estimators': 600, 'subsample': 0.8, 'colsample_bytree': 1.0} → 0.8045\n",
      "{'learning_rate': 0.03, 'max_depth': 6, 'n_estimators': 600, 'subsample': 1.0, 'colsample_bytree': 0.8} → 0.8156\n",
      "{'learning_rate': 0.03, 'max_depth': 6, 'n_estimators': 600, 'subsample': 1.0, 'colsample_bytree': 1.0} → 0.8101\n",
      "{'learning_rate': 0.03, 'max_depth': 6, 'n_estimators': 800, 'subsample': 0.8, 'colsample_bytree': 0.8} → 0.8156\n",
      "{'learning_rate': 0.03, 'max_depth': 6, 'n_estimators': 800, 'subsample': 0.8, 'colsample_bytree': 1.0} → 0.8101\n",
      "{'learning_rate': 0.03, 'max_depth': 6, 'n_estimators': 800, 'subsample': 1.0, 'colsample_bytree': 0.8} → 0.8156\n",
      "{'learning_rate': 0.03, 'max_depth': 6, 'n_estimators': 800, 'subsample': 1.0, 'colsample_bytree': 1.0} → 0.8101\n",
      "{'learning_rate': 0.03, 'max_depth': 6, 'n_estimators': 1000, 'subsample': 0.8, 'colsample_bytree': 0.8} → 0.8156\n",
      "{'learning_rate': 0.03, 'max_depth': 6, 'n_estimators': 1000, 'subsample': 0.8, 'colsample_bytree': 1.0} → 0.8101\n",
      "{'learning_rate': 0.03, 'max_depth': 6, 'n_estimators': 1000, 'subsample': 1.0, 'colsample_bytree': 0.8} → 0.8156\n",
      "{'learning_rate': 0.03, 'max_depth': 6, 'n_estimators': 1000, 'subsample': 1.0, 'colsample_bytree': 1.0} → 0.8101\n",
      "{'learning_rate': 0.03, 'max_depth': 7, 'n_estimators': 600, 'subsample': 0.8, 'colsample_bytree': 0.8} → 0.8268\n",
      "{'learning_rate': 0.03, 'max_depth': 7, 'n_estimators': 600, 'subsample': 0.8, 'colsample_bytree': 1.0} → 0.8101\n",
      "{'learning_rate': 0.03, 'max_depth': 7, 'n_estimators': 600, 'subsample': 1.0, 'colsample_bytree': 0.8} → 0.8045\n",
      "{'learning_rate': 0.03, 'max_depth': 7, 'n_estimators': 600, 'subsample': 1.0, 'colsample_bytree': 1.0} → 0.7821\n",
      "{'learning_rate': 0.03, 'max_depth': 7, 'n_estimators': 800, 'subsample': 0.8, 'colsample_bytree': 0.8} → 0.8212\n",
      "{'learning_rate': 0.03, 'max_depth': 7, 'n_estimators': 800, 'subsample': 0.8, 'colsample_bytree': 1.0} → 0.7989\n",
      "{'learning_rate': 0.03, 'max_depth': 7, 'n_estimators': 800, 'subsample': 1.0, 'colsample_bytree': 0.8} → 0.8045\n",
      "{'learning_rate': 0.03, 'max_depth': 7, 'n_estimators': 800, 'subsample': 1.0, 'colsample_bytree': 1.0} → 0.7821\n",
      "{'learning_rate': 0.03, 'max_depth': 7, 'n_estimators': 1000, 'subsample': 0.8, 'colsample_bytree': 0.8} → 0.8268\n",
      "{'learning_rate': 0.03, 'max_depth': 7, 'n_estimators': 1000, 'subsample': 0.8, 'colsample_bytree': 1.0} → 0.8045\n",
      "{'learning_rate': 0.03, 'max_depth': 7, 'n_estimators': 1000, 'subsample': 1.0, 'colsample_bytree': 0.8} → 0.8045\n",
      "{'learning_rate': 0.03, 'max_depth': 7, 'n_estimators': 1000, 'subsample': 1.0, 'colsample_bytree': 1.0} → 0.7821\n",
      "\n",
      "Best Validation Accuracy: 0.838\n",
      "Best Params: {'learning_rate': 0.03, 'max_depth': 5, 'n_estimators': 800, 'subsample': 0.8, 'colsample_bytree': 0.8}\n"
     ]
    }
   ],
   "source": [
    "from xgboost import XGBClassifier\n",
    "from sklearn.metrics import accuracy_score\n",
    "import itertools\n",
    "\n",
    "# Các giá trị muốn thử\n",
    "param_grid = {\n",
    "    \"learning_rate\": [0.05, 0.03],\n",
    "    \"max_depth\": [5, 6, 7],\n",
    "    \"n_estimators\": [600, 800, 1000],\n",
    "    \"subsample\": [0.8, 1.0],\n",
    "    \"colsample_bytree\": [0.8, 1.0],\n",
    "}\n",
    "\n",
    "\n",
    "# Duyệt mọi tổ hợp\n",
    "best_acc = 0\n",
    "best_params_combo = None\n",
    "\n",
    "for combo in itertools.product(*param_grid.values()):\n",
    "    params = dict(zip(param_grid.keys(), combo))\n",
    "    model = XGBClassifier(\n",
    "        **params,\n",
    "        gamma=0.1,\n",
    "        reg_alpha=0.3,\n",
    "        reg_lambda=2.0,\n",
    "        random_state=42,\n",
    "        eval_metric=\"logloss\",\n",
    "        use_label_encoder=False,\n",
    "    )\n",
    "    model.fit(X_train, y_train)\n",
    "    val_pred = model.predict(X_val)\n",
    "    acc = accuracy_score(y_val, val_pred)\n",
    "    \n",
    "    if acc > best_acc:\n",
    "        best_acc = acc\n",
    "        best_params_combo = params\n",
    "    \n",
    "    print(f\"{params} → {acc:.4f}\")\n",
    "\n",
    "print(\"\\nBest Validation Accuracy:\", round(best_acc, 4))\n",
    "print(\"Best Params:\", best_params_combo)\n"
   ]
  },
  {
   "cell_type": "markdown",
   "id": "423bca0c",
   "metadata": {},
   "source": [
    "### Huấn luyện mô hình cuối cùng & đánh giá"
   ]
  },
  {
   "cell_type": "code",
   "execution_count": 6,
   "id": "4814a094",
   "metadata": {},
   "outputs": [
    {
     "name": "stdout",
     "output_type": "stream",
     "text": [
      "🏆 Final Validation Accuracy: 0.8380\n"
     ]
    }
   ],
   "source": [
    "from xgboost import XGBClassifier\n",
    "from sklearn.metrics import accuracy_score\n",
    "\n",
    "final_model = XGBClassifier(\n",
    "    learning_rate=0.03,\n",
    "    max_depth=5,\n",
    "    n_estimators=800,\n",
    "    subsample=0.8,\n",
    "    colsample_bytree=0.8,\n",
    "    gamma=0.1,\n",
    "    reg_alpha=0.3,\n",
    "    reg_lambda=2.0,\n",
    "    random_state=42,\n",
    "    eval_metric=\"logloss\",\n",
    "    use_label_encoder=False\n",
    ")\n",
    "\n",
    "# Huấn luyện mô hình\n",
    "final_model.fit(X_train, y_train)\n",
    "\n",
    "# Dự đoán & đánh giá\n",
    "y_pred = final_model.predict(X_val)\n",
    "val_acc = accuracy_score(y_val, y_pred)\n",
    "\n",
    "print(f\"🏆 Final Validation Accuracy: {val_acc:.4f}\")\n"
   ]
  },
  {
   "cell_type": "code",
   "execution_count": 7,
   "id": "021875e3",
   "metadata": {},
   "outputs": [
    {
     "name": "stdout",
     "output_type": "stream",
     "text": [
      "Model saved as XGBoost_best_final.pkl\n"
     ]
    }
   ],
   "source": [
    "import joblib\n",
    "joblib.dump(final_model, \"XGBoost_best_final.pkl\")\n",
    "print(\"Model saved as XGBoost_best_final.pkl\")"
   ]
  },
  {
   "cell_type": "code",
   "execution_count": 8,
   "id": "8534766c",
   "metadata": {},
   "outputs": [],
   "source": [
    "import pandas as pd\n",
    "\n",
    "test = pd.read_excel(\"../exps/data/test_feat.xlsx\")\n",
    "\n",
    "# Xử lý test giống train\n",
    "full = pd.concat([train.drop(\"Survived\", axis=1), test])\n",
    "full = pd.get_dummies(full, drop_first=True)\n",
    "\n",
    "X = full.iloc[:len(train), :]\n",
    "X_test = full.iloc[len(train):, :]\n",
    "y = train[\"Survived\"]"
   ]
  },
  {
   "cell_type": "code",
   "execution_count": null,
   "id": "7c0c8be9",
   "metadata": {},
   "outputs": [],
   "source": [
    "from xgboost import XGBClassifier\n",
    "\n",
    "final_model = XGBClassifier(\n",
    "    learning_rate=0.03,\n",
    "    max_depth=5,\n",
    "    n_estimators=800,\n",
    "    subsample=0.8,\n",
    "    colsample_bytree=0.8,\n",
    "    gamma=0.1,\n",
    "    reg_alpha=0.3,\n",
    "    reg_lambda=2.0,\n",
    "    random_state=42,\n",
    "    eval_metric=\"logloss\",\n",
    "    use_label_encoder=False\n",
    ")\n",
    "\n",
    "final_model.fit(X, y)"
   ]
  },
  {
   "cell_type": "code",
   "execution_count": null,
   "id": "bfffe968",
   "metadata": {},
   "outputs": [
    {
     "name": "stdout",
     "output_type": "stream",
     "text": [
      "File submission.csv đã được tạo!\n"
     ]
    }
   ],
   "source": [
    "test_pred = final_model.predict(X_test)\n",
    "\n",
    "submission = pd.DataFrame({\n",
    "    \"PassengerId\": test[\"PassengerId\"],\n",
    "    \"Survived\": test_pred\n",
    "})\n",
    "\n",
    "submission.to_csv(\"submission.csv\", index=False)\n",
    "print(\"File submission.csv đã được tạo!\")"
   ]
  }
 ],
 "metadata": {
  "kernelspec": {
   "display_name": "base",
   "language": "python",
   "name": "python3"
  },
  "language_info": {
   "codemirror_mode": {
    "name": "ipython",
    "version": 3
   },
   "file_extension": ".py",
   "mimetype": "text/x-python",
   "name": "python",
   "nbconvert_exporter": "python",
   "pygments_lexer": "ipython3",
   "version": "3.13.5"
  }
 },
 "nbformat": 4,
 "nbformat_minor": 5
}
