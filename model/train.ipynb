{
 "cells": [
  {
   "cell_type": "markdown",
   "id": "64a7e692",
   "metadata": {},
   "source": [
    "# Import Libraries"
   ]
  },
  {
   "cell_type": "code",
   "execution_count": null,
   "id": "fab6650e",
   "metadata": {},
   "outputs": [],
   "source": [
    "import os\n",
    "import numpy as np\n",
    "import pandas as pd\n",
    "import matplotlib.pyplot as plt \n",
    "import seaborn as sns\n",
    "import string \n",
    "from IPython import display\n",
    "\n",
    "import warnings\n",
    "warnings.filterwarnings('ignore')\n",
    "\n",
    "from sklearn.preprocessing import LabelEncoder\n",
    "from sklearn.ensemble import RandomForestClassifier\n",
    "from sklearn.metrics import roc_curve, auc, accuracy_score,classification_report,confusion_matrix, roc_auc_score\n",
    "from sklearn.model_selection import StratifiedKFold"
   ]
  },
  {
   "cell_type": "code",
   "execution_count": null,
   "id": "a4a089d7",
   "metadata": {},
   "outputs": [],
   "source": [
    "param_cfg ={\n",
    "    \"action\": \"train_feat01\",\n",
    "    \"feat_path\": \"../../exps/featbase_YYMMDD/data.npz\",\n",
    "    \"seed\": 42,\n",
    "    \"exp_dir\": os.path.abspath('../../exps'),\n",
    "    'exp_name': 'trainbase_YYMMDD',\n",
    "    \"data_dir\":os.path.abspath(\"../../data/titanic\"),\n",
    "    \"verbose\": True,\n",
    "}\n",
    "\n",
    "param_cfg.update(**{\n",
    "    \"save_dir\": os.path.abspath(f'{param_cfg[\"exp_dir\"]}/{param_cfg[\"exp_name\"]}')\n",
    "})\n",
    "\n",
    "for v in param_cfg:\n",
    "    print(f'+ {v}: {param_cfg[v]}')\n",
    "\n",
    "globals().update(**param_cfg)"
   ]
  }
 ],
 "metadata": {
  "language_info": {
   "name": "python"
  }
 },
 "nbformat": 4,
 "nbformat_minor": 5
}
