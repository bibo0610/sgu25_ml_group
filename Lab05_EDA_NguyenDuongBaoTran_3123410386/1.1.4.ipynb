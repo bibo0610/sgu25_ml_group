{
 "cells": [
  {
   "cell_type": "markdown",
   "id": "6273e025-37ab-4afd-86ed-7b41298d5f88",
   "metadata": {},
   "source": [
    "# 1.1.4. Bài tập thực hành 2\n",
    "#### Thực hiện thống kê mô tả trên tập dữ liệu về bệnh tiểu đường."
   ]
  },
  {
   "cell_type": "markdown",
   "id": "96ea340a-cfdb-4e46-9eb9-7b86bcf4a231",
   "metadata": {},
   "source": [
    "### Ý nghĩa các chỉ số thống kê cho Glucose:\n",
    "\n",
    "**Mean (trung bình cộng)**: cho biết mức đường huyết trung bình của tất cả bệnh nhân trong tập dữ liệu. Ở đây ≈ 121.66, tức là nhìn chung đường huyết của bệnh nhân thường quanh mức 120 mg/dL.\n",
    "\n",
    "**Median (trung vị)**: giá trị đường huyết nằm ở giữa khi sắp xếp toàn bộ dữ liệu. Ở đây là 117.0, nghĩa là 50% bệnh nhân có đường huyết ≤ 117 và 50% còn lại ≥ 117.\n",
    "\n",
    "**Mode (mốt)**: giá trị đường huyết phổ biến nhất. Ở đây là 99, xuất hiện 17 lần → nhiều bệnh nhân có chỉ số Glucose bằng 99.\n",
    "\n",
    "**Variance (phương sai) và Standard Deviation (độ lệch chuẩn)**: đo lường mức độ phân tán. Variance ≈ 925, Standard Deviation ≈ 30.4 → đường huyết bệnh nhân dao động khá nhiều quanh giá trị trung bình (±30 mg/dL).\n",
    "\n",
    "**Min – Max**: đường huyết thấp nhất là 44, cao nhất là 199 → cho thấy có bệnh nhân rất thấp, có bệnh nhân rất cao.\n",
    "\n",
    "**Range (khoảng biến thiên)**: hiệu số giữa Max – Min = 155 → phản ánh độ rộng của tập dữ liệu.\n",
    "\n",
    "**Percentile 60%**: bằng 125 → 60% số bệnh nhân có Glucose ≤ 125.\n",
    "\n",
    "**Quartiles (Q1, Q3)**:\n",
    "\n",
    "- Q1 = 99.75 (25% số bệnh nhân có đường huyết ≤ 100),\n",
    "\n",
    "- Q3 = 140.25 (75% bệnh nhân có đường huyết ≤ 140).\n",
    "\n",
    "**Interquartile Range (IQR)**: bằng 40.5, là khoảng giữa Q3 – Q1, thể hiện mức độ phân tán của nhóm bệnh nhân nằm giữa 50% trung vị. Nếu có giá trị nằm ngoài [Q1 – 1.5×IQR, Q3 + 1.5×IQR] thì có thể coi là ngoại lệ (outlier)."
   ]
  },
  {
   "cell_type": "code",
   "execution_count": 1,
   "id": "f219d41d-4055-4073-9474-eb40afd6c17f",
   "metadata": {},
   "outputs": [],
   "source": [
    "import numpy as np\n",
    "import pandas as pd\n",
    "from scipy import stats\n",
    "\n",
    "# 1. Import dữ liệu\n",
    "df = pd.read_csv(\"diabetes.csv\")"
   ]
  },
  {
   "cell_type": "code",
   "execution_count": 2,
   "id": "0663886c-9a49-4686-bada-08f1ed9c1f26",
   "metadata": {},
   "outputs": [],
   "source": [
    "# 2. Loại bỏ dữ liệu trùng lặp\n",
    "df = df.drop_duplicates()"
   ]
  },
  {
   "cell_type": "code",
   "execution_count": 3,
   "id": "cedce151-ef84-48bc-9d81-b4eaef67072a",
   "metadata": {},
   "outputs": [],
   "source": [
    "# 3. Thay thế dữ liệu và thay đổi định dạng\n",
    "cols_with_zero_invalid = ['Glucose', 'BloodPressure', 'SkinThickness', 'Insulin', 'BMI']\n",
    "df[cols_with_zero_invalid] = df[cols_with_zero_invalid].replace(0, np.nan)\n",
    "\n",
    "df['Outcome'] = df['Outcome'].astype(int)"
   ]
  },
  {
   "cell_type": "code",
   "execution_count": 4,
   "id": "c401cf09-6561-4996-9385-6a26331eaa77",
   "metadata": {},
   "outputs": [],
   "source": [
    "# 4. Xử lý dữ liệu thiếu (điền bằng median)\n",
    "for col in cols_with_zero_invalid:\n",
    "    df[col] = df[col].fillna(df[col].median())"
   ]
  },
  {
   "cell_type": "code",
   "execution_count": 5,
   "id": "45e20439-abb5-4e8e-9b38-fdd473e074bc",
   "metadata": {},
   "outputs": [
    {
     "name": "stdout",
     "output_type": "stream",
     "text": [
      "   Pregnancies  Glucose  BloodPressure  SkinThickness  Insulin   BMI  \\\n",
      "0            6    148.0           72.0           35.0    125.0  33.6   \n",
      "1            1     85.0           66.0           29.0    125.0  26.6   \n",
      "2            8    183.0           64.0           29.0    125.0  23.3   \n",
      "3            1     89.0           66.0           23.0     94.0  28.1   \n",
      "4            0    137.0           40.0           35.0    168.0  43.1   \n",
      "\n",
      "   DiabetesPedigreeFunction  Age  Outcome  \n",
      "0                     0.627   50        1  \n",
      "1                     0.351   31        0  \n",
      "2                     0.672   32        1  \n",
      "3                     0.167   21        0  \n",
      "4                     2.288   33        1  \n",
      "Pregnancies                   int64\n",
      "Glucose                     float64\n",
      "BloodPressure               float64\n",
      "SkinThickness               float64\n",
      "Insulin                     float64\n",
      "BMI                         float64\n",
      "DiabetesPedigreeFunction    float64\n",
      "Age                           int64\n",
      "Outcome                       int64\n",
      "dtype: object\n",
      "(768, 9)\n"
     ]
    }
   ],
   "source": [
    "print(df.head(5))     \n",
    "print(df.dtypes)         \n",
    "print(df.shape) "
   ]
  },
  {
   "cell_type": "code",
   "execution_count": 6,
   "id": "77084cf4-b3f0-426c-9d8a-0ef421fccf2a",
   "metadata": {},
   "outputs": [
    {
     "name": "stdout",
     "output_type": "stream",
     "text": [
      "\n",
      "--- Thống kê mô tả cho cột Glucose ---\n",
      "Mean: 121.65625\n",
      "Median: 117.0\n",
      "Mode: 99.0  (Xuất hiện: 17 lần)\n",
      "Variance: 925.2828776041666\n",
      "Standard Deviation: 30.418462775166116\n",
      "Max: 199.0\n",
      "Min: 44.0\n",
      "Range: 155.0\n",
      "60th Percentile: 125.0\n",
      "Q1 (25%): 99.75\n",
      "Q3 (75%): 140.25\n",
      "Interquartile Range (IQR): 40.5\n"
     ]
    }
   ],
   "source": [
    "# 5. Thống kê mô tả cho cột Glucose\n",
    "glucose = df[\"Glucose\"]\n",
    "\n",
    "print(\"\\n--- Thống kê mô tả cho cột Glucose ---\")\n",
    "print(\"Mean:\", np.mean(glucose))\n",
    "print(\"Median:\", np.median(glucose))\n",
    "\n",
    "glucose_mode = stats.mode(glucose, keepdims=True)\n",
    "print(\"Mode:\", glucose_mode.mode[0], \" (Xuất hiện:\", glucose_mode.count[0], \"lần)\")\n",
    "\n",
    "print(\"Variance:\", np.var(glucose))\n",
    "print(\"Standard Deviation:\", np.std(glucose))\n",
    "\n",
    "print(\"Max:\", np.max(glucose))\n",
    "print(\"Min:\", np.min(glucose))\n",
    "print(\"Range:\", np.max(glucose) - np.min(glucose))\n",
    "\n",
    "print(\"60th Percentile:\", np.percentile(glucose, 60))\n",
    "\n",
    "print(\"Q1 (25%):\", np.percentile(glucose, 25))\n",
    "print(\"Q3 (75%):\", np.percentile(glucose, 75))\n",
    "\n",
    "print(\"Interquartile Range (IQR):\", stats.iqr(glucose))"
   ]
  },
  {
   "cell_type": "markdown",
   "id": "159627e0-b207-48b0-9804-9f26f6bf9ab6",
   "metadata": {},
   "source": [
    "### Nhận xét\n",
    "\n",
    "- Giá trị Mean (121.7) hơi lớn hơn Median (117.0) → phân phối hơi lệch phải (skewed to the right).\n",
    "\n",
    "- Mode (99) thấp hơn cả Mean và Median → nhiều bệnh nhân có Glucose quanh mức này, nhưng vẫn có những giá trị cao kéo trung bình lên.\n",
    "\n",
    "- Khoảng giá trị (44 → 199) khá rộng, thể hiện sự khác biệt lớn giữa bệnh nhân có đường huyết thấp và cao.\n",
    "\n",
    "- IQR = 40.5: vùng giá trị Glucose của 50% số người nằm trong khoảng [99.75, 140.25].\n",
    "\n",
    "Như vậy, dữ liệu Glucose có phân phối khá phân tán, với một số cá nhân có mức đường huyết rất cao, có thể là nhóm nguy cơ tiểu đường rõ rệt."
   ]
  }
 ],
 "metadata": {
  "kernelspec": {
   "display_name": "Python 3 (ipykernel)",
   "language": "python",
   "name": "python3"
  },
  "language_info": {
   "codemirror_mode": {
    "name": "ipython",
    "version": 3
   },
   "file_extension": ".py",
   "mimetype": "text/x-python",
   "name": "python",
   "nbconvert_exporter": "python",
   "pygments_lexer": "ipython3",
   "version": "3.13.5"
  }
 },
 "nbformat": 4,
 "nbformat_minor": 5
}
