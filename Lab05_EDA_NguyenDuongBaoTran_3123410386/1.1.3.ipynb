{
 "cells": [
  {
   "cell_type": "markdown",
   "id": "1c489bd7-37f1-4403-a03d-a1967098b872",
   "metadata": {},
   "source": [
    "## 1.1.3 Bài tập thực hành 1\n",
    "### Thực hiện thống kê mô tả trên tập dữ liệu về phân loại chất lượng rượu đỏ."
   ]
  },
  {
   "cell_type": "markdown",
   "id": "3000adf1-63ff-4d91-ad7a-657afdc99d79",
   "metadata": {},
   "source": [
    "Giải thích ý nghĩa các chỉ số\n",
    "\n",
    "**Mean** (trung bình cộng): cho biết mức chất lượng trung bình của rượu.\n",
    "\n",
    "**Median** (trung vị): mức chất lượng nằm ở giữa khi sắp xếp toàn bộ dữ liệu.\n",
    "\n",
    "**Mode** (mode): mức chất lượng phổ biến nhất.\n",
    "\n",
    "**Variance** & **Standard Deviation**: cho thấy dữ liệu phân tán nhiều hay ít.\n",
    "\n",
    "**Min** – **Max**: mức chất lượng thấp nhất và cao nhất.\n",
    "\n",
    "**Percentile 60%**: tại vị trí 60% dữ liệu.\n",
    "\n",
    "**Quartile** & **IQR**: dùng để phân tích sự phân tán và phát hiện ngoại lệ."
   ]
  },
  {
   "cell_type": "code",
   "execution_count": 1,
   "id": "a7d3dd8b-3716-4d49-971f-3af554f3edaa",
   "metadata": {},
   "outputs": [
    {
     "name": "stdout",
     "output_type": "stream",
     "text": [
      "Mean: 5.6360225140712945\n",
      "Median: 6.0\n",
      "Mode: 5\n",
      "Variance: 0.6517605398308277\n",
      "Standard Deviation: 0.8073168769639513\n",
      "Min: 3\n",
      "Max: 8\n",
      "60th Percentile: 6.0\n",
      "75th Quantile (Q3): 6.0\n",
      "IQR: 1.0\n"
     ]
    }
   ],
   "source": [
    "import numpy as np\n",
    "import pandas as pd\n",
    "from scipy import stats\n",
    "\n",
    "# Load the .csv into a dataframe using read_csv\n",
    "wine_data = pd.read_csv(\"winequality-red.csv\")\n",
    "wine_data = wine_data[['fixed acidity','volatile acidity','citric acid','alcohol','quality']]\n",
    "\n",
    "# Take a quick look at the data\n",
    "wine_data.head(5)\n",
    "wine_data.dtypes\n",
    "wine_data.shape\n",
    "\n",
    "# Get the mean of the data (trung bình cộng)\n",
    "data_mean = np.mean(wine_data[\"quality\"])\n",
    "# Get the median of the data (trung vị)\n",
    "data_median = np.median(wine_data[\"quality\"])\n",
    "# Get the mode of the data (giá trị xuất hiện nhiều nhất)\n",
    "data_mode = stats.mode(wine_data[\"quality\"], keepdims=True)\n",
    "# Obtain the variance of the data (phương sai)\n",
    "data_variance = np.var(wine_data[\"quality\"])\n",
    "# Obtain the standard deviation of the data (độ lệch chuẩn)\n",
    "data_sd = np.std(wine_data[\"quality\"])\n",
    "# Compute the maximum and minimum values of the data (giá trị lớn - nhỏ nhất)\n",
    "data_max = np.max(wine_data[\"quality\"])\n",
    "data_min = np.min(wine_data[\"quality\"])\n",
    "# Obtain the 60th percentile of the data (phân vị, ví dụ 60%)\n",
    "data_percentile = np.percentile(wine_data[\"quality\"], 60)\n",
    "# Obtain the quartiles of the data (phân vị thứ 3 - Q3)\n",
    "data_quartile = np.quantile(wine_data[\"quality\"], 0.75)\n",
    "# Get the IQR of the data (khoảng tứ phân vị: Q3 - Q1)\n",
    "data_IQR = stats.iqr(wine_data[\"quality\"])\n",
    "#Result\n",
    "print(\"Mean:\", data_mean)\n",
    "print(\"Median:\", data_median)\n",
    "print(\"Mode:\", data_mode.mode[0])\n",
    "print(\"Variance:\", data_variance)\n",
    "print(\"Standard Deviation:\", data_sd)\n",
    "print(\"Min:\", data_min)\n",
    "print(\"Max:\", data_max)\n",
    "print(\"60th Percentile:\", data_percentile)\n",
    "print(\"75th Quantile (Q3):\", data_quartile)\n",
    "print(\"IQR:\", data_IQR)"
   ]
  },
  {
   "cell_type": "markdown",
   "id": "8c4a504c-655e-4ea8-bf0c-8b9ed91c4044",
   "metadata": {},
   "source": [
    "#### Nhận xét:\n",
    "Giá trị trung bình (Mean) của chất lượng rượu đỏ là khoảng 5.64, gần sát với trung vị (Median = 6.0). Điều này cho thấy phân phối dữ liệu tương đối cân đối, không bị lệch nhiều.\n",
    "\n",
    "Mode = 5 cho biết điểm chất lượng xuất hiện nhiều nhất trong tập dữ liệu là 5.\n",
    "\n",
    "Khoảng dao động của chất lượng nằm trong khoảng từ 3 đến 8, tức là không có rượu chất lượng quá thấp (1–2) hoặc quá cao (9–10).\n",
    "\n",
    "Độ lệch chuẩn ≈ 0.81 khá nhỏ, chứng tỏ chất lượng rượu tập trung quanh giá trị trung bình, ít phân tán.\n",
    "\n",
    "Phương sai ≈ 0.65 phù hợp với nhận định trên (ít biến động).\n",
    "\n",
    "Phân vị 60% và 75% đều bằng 6, cho thấy phần lớn rượu có chất lượng từ trung bình khá trở lên.\n",
    "\n",
    "IQR = 1.0 → 50% dữ liệu tập trung trong khoảng hẹp (từ Q1 đến Q3), nghĩa là độ chênh lệch giữa nhóm rượu trung bình và khá không lớn.\n",
    "\n",
    "Tổng thể, dữ liệu cho thấy chất lượng rượu đỏ chủ yếu nằm ở mức trung bình (5–6 điểm), chỉ một phần nhỏ đạt mức cao (7–8), rất ít trường hợp rơi vào mức thấp (3–4)"
   ]
  }
 ],
 "metadata": {
  "kernelspec": {
   "display_name": "Python 3 (ipykernel)",
   "language": "python",
   "name": "python3"
  },
  "language_info": {
   "codemirror_mode": {
    "name": "ipython",
    "version": 3
   },
   "file_extension": ".py",
   "mimetype": "text/x-python",
   "name": "python",
   "nbconvert_exporter": "python",
   "pygments_lexer": "ipython3",
   "version": "3.13.5"
  }
 },
 "nbformat": 4,
 "nbformat_minor": 5
}
