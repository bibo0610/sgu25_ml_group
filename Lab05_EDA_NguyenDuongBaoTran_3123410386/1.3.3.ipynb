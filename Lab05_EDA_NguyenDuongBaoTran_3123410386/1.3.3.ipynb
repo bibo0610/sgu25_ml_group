{
 "cells": [
  {
   "cell_type": "markdown",
   "id": "ef9ff420-b9bc-4bb9-b200-e5f903be9d46",
   "metadata": {},
   "source": [
    "## 1.3.3 Bài tập thực hành 1\n",
    "### Tìm hiểu các tính năng và cách sử dụng sản phẩm SweetViz áp dụng trên tập dữ liệu Marketing Campaign."
   ]
  },
  {
   "cell_type": "markdown",
   "id": "f053aa5e-e4b2-447a-87ac-60a75851e8ff",
   "metadata": {},
   "source": [
    "**Giới thiệu SweetViz:**\n",
    "SweetViz là một thư viện Python hỗ trợ Exploratory Data Analysis (EDA). Thư viện này tự động tạo ra báo cáo trực quan dưới dạng file HTML, giúp người dùng dễ dàng khám phá, so sánh và hiểu rõ đặc điểm của tập dữ liệu."
   ]
  },
  {
   "cell_type": "markdown",
   "id": "1a0e3524-e064-4c7b-950a-d51ce4a0a4dc",
   "metadata": {},
   "source": [
    "**Một số tính năng chính của SweetViz:**\n",
    "\n",
    "- Thống kê tổng quan: hiển thị số dòng, số cột, phân loại biến (numerical/categorical), số giá trị thiếu.\n",
    "\n",
    "- Phân tích phân phối dữ liệu: trực quan hóa sự phân bố của các biến định lượng (Income, Age, Spending, …).\n",
    "\n",
    "- So sánh nhóm dữ liệu: ví dụ, so sánh khách hàng đã tham gia chiến dịch marketing (Response=1) với khách hàng chưa tham gia (Response=0).\n",
    "\n",
    "- Mối quan hệ giữa các biến: biểu diễn tương quan giữa các cột, giúp phát hiện biến ảnh hưởng mạnh đến hành vi khách hàng.\n",
    "\n",
    "- Tạo báo cáo nhanh: xuất báo cáo HTML, thuận tiện cho việc trình bày và phân tích mà không cần code nhiều."
   ]
  },
  {
   "cell_type": "markdown",
   "id": "b30a4c0d-9528-454e-987c-a0b830ef39e1",
   "metadata": {},
   "source": [
    "#### Cách sử dụng với Marketing Campaign dataset:"
   ]
  },
  {
   "cell_type": "code",
   "execution_count": 2,
   "id": "49d53a07-c093-47ca-a3e0-52e0a5261725",
   "metadata": {},
   "outputs": [
    {
     "data": {
      "application/vnd.jupyter.widget-view+json": {
       "model_id": "24b4ce2ac2a3487b8e8b54d3c3833d94",
       "version_major": 2,
       "version_minor": 0
      },
      "text/plain": [
       "                                             |                                             | [  0%]   00:00 ->…"
      ]
     },
     "metadata": {},
     "output_type": "display_data"
    },
    {
     "name": "stdout",
     "output_type": "stream",
     "text": [
      "Report sweetviz_report.html was generated! NOTEBOOK/COLAB USERS: the web browser MAY not pop up, regardless, the report IS saved in your notebook/colab files.\n"
     ]
    }
   ],
   "source": [
    "import pandas as pd\n",
    "import numpy as np\n",
    "import warnings\n",
    "import sweetviz as sv\n",
    "\n",
    "if not hasattr(np, \"VisibleDeprecationWarning\"):\n",
    "    np.VisibleDeprecationWarning = Warning\n",
    "    \n",
    "data = pd.read_csv(\"marketing_campaign.csv\", sep=\"\\t\")\n",
    "\n",
    "cols = [\"ID\", \"Year_Birth\", \"Education\", \"Marital_Status\", \"Income\", \n",
    "        \"Kidhome\", \"Teenhome\", \"MntWines\", \"MntFruits\", \"MntMeatProducts\", \"Response\"]\n",
    "\n",
    "report = sv.analyze(data[cols], target_feat=\"Response\")\n",
    "report.show_html(\"sweetviz_report.html\")"
   ]
  },
  {
   "cell_type": "markdown",
   "id": "0f95a5c8-f634-4bf0-82d3-7c00c88d9293",
   "metadata": {},
   "source": [
    "**Nhận xét khi áp dụng SweetViz trên tập dữ liệu Marketing Campaign**\n",
    "\n",
    "- Year_Birth: Độ tuổi khách hàng trải rộng, trong đó tập trung nhiều ở nhóm sinh năm 1960–1980. Điều này cho thấy phần lớn khách hàng nằm trong độ tuổi trung niên – nhóm có khả năng chi tiêu ổn định.\n",
    "\n",
    "- Education: Khách hàng chủ yếu có trình độ Graduation và PhD. Trình độ học vấn cao thường đi kèm với thu nhập ổn định, phù hợp cho các chiến dịch marketing sản phẩm có giá trị cao.\n",
    "\n",
    "- Marital_Status: Phần đông khách hàng ở trạng thái Married hoặc Together. Điều này có thể liên quan đến nhu cầu chi tiêu cho gia đình, ảnh hưởng đến loại sản phẩm được lựa chọn.\n",
    "\n",
    "- Income: Thu nhập có sự phân tán khá lớn, với nhiều khách hàng thu nhập dưới mức trung bình và một số ít có thu nhập rất cao. Sự chênh lệch này cần được cân nhắc để thiết kế các chương trình khuyến mãi phù hợp cho từng nhóm.\n",
    "\n",
    "- Response: Tỷ lệ khách hàng phản hồi tích cực với chiến dịch marketing còn thấp. Điều này cho thấy cần có sự điều chỉnh chiến lược, ví dụ như phân khúc khách hàng rõ ràng hơn hoặc đưa ra ưu đãi hấp dẫn hơn.\n",
    "\n",
    "Khi áp dụng SweetViz trên tập dữ liệu Marketing Campaign, thư viện đã giúp nhóm nhanh chóng trực quan hóa đặc trưng dữ liệu, thống kê phân bố, phát hiện mối quan hệ giữa các biến và so sánh nhóm khách hàng. Báo cáo HTML tạo ra hỗ trợ việc phân tích trở nên trực quan, dễ theo dõi và hữu ích cho các bước xử lý dữ liệu tiếp theo."
   ]
  }
 ],
 "metadata": {
  "kernelspec": {
   "display_name": "Python 3 (ipykernel)",
   "language": "python",
   "name": "python3"
  },
  "language_info": {
   "codemirror_mode": {
    "name": "ipython",
    "version": 3
   },
   "file_extension": ".py",
   "mimetype": "text/x-python",
   "name": "python",
   "nbconvert_exporter": "python",
   "pygments_lexer": "ipython3",
   "version": "3.13.5"
  }
 },
 "nbformat": 4,
 "nbformat_minor": 5
}
